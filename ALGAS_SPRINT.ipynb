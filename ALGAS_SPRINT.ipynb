{
 "cells": [
  {
   "cell_type": "code",
   "execution_count": 21,
   "id": "e644d239",
   "metadata": {},
   "outputs": [],
   "source": [
    "DB_HOST = \"localhost\"\n",
    "DB_PORT = \"3306\"\n",
    "DB_USER = \"root\"\n",
    "DB_PASSWORD = \"root\"\n",
    "DATABASE = \"ALGAS\"\n",
    "\n",
    "CREATE_QUERY = \"CREATE TABLE IF NOT EXISTS dados (id INT PRIMARY KEY AUTO_INCREMENT, valor INT, espacoMemoria INT, tempoExecucao INT)\"\n",
    "INSERT_QUERY = \"INSERT INTO dados (id, valor, espacoMemoria, tempoExecucao) VALUES (default, %s, %s, %s)\"\n",
    "SELECT_QUERY = \"SELECT id, valor, espacoMemoria, tempoExecucao FROM dados\"\n",
    "DELETE_QUERY = \"TRUNCATE dados\"\n",
    "\n",
    "DROP_QUERY = \"DROP TABLE dados\""
   ]
  },
  {
   "cell_type": "code",
   "execution_count": 47,
   "id": "88b0512d",
   "metadata": {},
   "outputs": [],
   "source": [
    "from mysql.connector import connect as connect_my\n",
    "def get_connection():\n",
    "    return connect_my(\n",
    "        # host = DB_HOST + \":\" + DB_PORT,\n",
    "        host = DB_HOST,\n",
    "        user = DB_USER,\n",
    "        password = DB_PASSWORD,\n",
    "        database = DATABASE\n",
    "        )\n",
    "\n",
    "def create_db():\n",
    "    con = get_connection()\n",
    "    c = con.cursor()\n",
    "    c.execute(CREATE_QUERY)    \n",
    "    return con"
   ]
  },
  {
   "cell_type": "code",
   "execution_count": 59,
   "id": "16cc4581",
   "metadata": {
    "scrolled": true
   },
   "outputs": [],
   "source": [
    "def get_insert_query():\n",
    "    return INSERT_QUERY\n",
    "\n",
    "def insert_data(self, data: list):\n",
    "    con = get_connection()\n",
    "    c = con.cursor()\n",
    "    \n",
    "    insert = get_insert_query()\n",
    "\n",
    "    for value in data:\n",
    "        c.execute(insert, value)\n",
    "\n",
    "    con.commit()\n",
    "\n",
    "def select_data():\n",
    "    con = get_connection()\n",
    "    c = con.cursor()\n",
    "    \n",
    "    c.execute(SELECT_QUERY)\n",
    "    \n",
    "    return c.fetchall()"
   ]
  },
  {
   "cell_type": "code",
   "execution_count": 53,
   "id": "303a0e0c",
   "metadata": {},
   "outputs": [],
   "source": [
    "class DatabaseManager:\n",
    "    def __init__(self):\n",
    "        self.connection = self.create()\n",
    "        self.cursor = None\n",
    "    \n",
    "    def create(self):\n",
    "        return get_connection()\n",
    "    \n",
    "    def transact_begin(self):\n",
    "        self.cursor = self.connection.cursor()\n",
    "    \n",
    "    def transact_commit(self):\n",
    "        self.connection.commit()\n",
    "\n",
    "    def insert(self, dados: list):\n",
    "        insert_data(self.connection, dados)\n",
    "        \n",
    "    def select(self) -> list:\n",
    "        return select_data(cursor=self.connection.cursor())\n"
   ]
  },
  {
   "cell_type": "code",
   "execution_count": 24,
   "id": "58b46677",
   "metadata": {},
   "outputs": [],
   "source": [
    "from datetime import datetime\n",
    "from sys import getsizeof\n",
    "\n",
    "\n",
    "def get_data_ranges() -> tuple:\n",
    "    return (\n",
    "        range(100000, 600000, 100000),\n",
    "        range(1000, 6000, 100), \n",
    "        range(100, 600, 100), \n",
    "        range(10, 60, 10), \n",
    "        range(1000000, 6000000, 1000000)\n",
    "    )\n",
    "\n",
    "\n",
    "def append_data(data: list) -> list:\n",
    "    dados = []\n",
    "    memory_accumulator = 0\n",
    "    for range_data in data:\n",
    "        for value in range_data:\n",
    "            inicio = datetime.now()\n",
    "            acumulador = 0\n",
    "            for i in range(value, 0, -1):\n",
    "                acumulador += i\n",
    "            memory_accumulator += getsizeof(value)\n",
    "            duracao = datetime.now() - inicio\n",
    "            dados.append((value, memory_accumulator, duracao.microseconds))\n",
    "    return dados\n",
    "\n",
    "\n",
    "def generate_data(sort: bool = False) -> list:\n",
    "    dados = append_data(get_data_ranges())\n",
    "\n",
    "    if sort:\n",
    "        dados = sorted(dados, key=lambda x: x[0])\n",
    "\n",
    "    return dados "
   ]
  },
  {
   "cell_type": "code",
   "execution_count": 60,
   "id": "f96ec8d7",
   "metadata": {},
   "outputs": [
    {
     "name": "stdout",
     "output_type": "stream",
     "text": [
      "Inseriu\n"
     ]
    }
   ],
   "source": [
    "dadosX = generate_data()\n",
    "db = DatabaseManager()\n",
    "db.transact_begin()\n",
    "#for dado in dadosX:\n",
    "db.insert(dadosX)\n",
    "\n",
    "db.transact_commit()\n",
    "print(\"Inseriu\")"
   ]
  },
  {
   "cell_type": "code",
   "execution_count": null,
   "id": "a213282c",
   "metadata": {},
   "outputs": [],
   "source": []
  }
 ],
 "metadata": {
  "kernelspec": {
   "display_name": "Python 3 (ipykernel)",
   "language": "python",
   "name": "python3"
  },
  "language_info": {
   "codemirror_mode": {
    "name": "ipython",
    "version": 3
   },
   "file_extension": ".py",
   "mimetype": "text/x-python",
   "name": "python",
   "nbconvert_exporter": "python",
   "pygments_lexer": "ipython3",
   "version": "3.10.2"
  }
 },
 "nbformat": 4,
 "nbformat_minor": 5
}
